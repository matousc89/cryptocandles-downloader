{
 "cells": [
  {
   "cell_type": "code",
   "execution_count": 1,
   "metadata": {},
   "outputs": [],
   "source": [
    "import json\n",
    "import csv\n",
    "import time\n",
    "import math\n",
    "import sys\n",
    "from datetime import datetime, timezone\n",
    "\n",
    "import requests\n",
    "\n",
    "import pandas as pd\n",
    "\n",
    "def get_data(pair, interval, start_date, end_date, exchange=\"binance\"):\n",
    "    \"\"\"\n",
    "    pair: for example ETHBTC\n",
    "    exchange: for example: binance\n",
    "    interval: granularity, for example: 1d, 1h\n",
    "    number: number of candles required\n",
    "    \"\"\"   \n",
    "    URL = \"https://cryptocandledata.com/api/candles\"\n",
    "    MAX_COUNT = 4\n",
    "\n",
    "    data = []\n",
    "    done = False\n",
    "\n",
    "    while not done:\n",
    "        \n",
    "        payload = {\n",
    "            \"exchange\": \"binance\",\n",
    "            \"tradingPair\": pair,\n",
    "            \"interval\": interval,\n",
    "            \"startDateTime\": start_date,\n",
    "            \"endDateTime\": end_date\n",
    "        }\n",
    "\n",
    "        r = requests.get(URL, params=payload)\n",
    "        \n",
    "        data += r.json()[\"candles\"]\n",
    "        \n",
    "        start_date = int(data[-1][\"timestamp\"]) // 1000 \n",
    "        \n",
    "        if start_date >= end_date - (1 * 3600 * 24):\n",
    "            done = True\n",
    "        \n",
    "        time.sleep(10)\n",
    "        \n",
    "           \n",
    "    df = pd.DataFrame(data)\n",
    "    df = df.drop_duplicates(subset='timestamp', keep=\"first\")\n",
    "\n",
    "#     plt.plot(df[\"timestamp\"].values)\n",
    "#     plt.show()\n",
    "\n",
    "    filename = \"data/{}-{}.csv\".format(pair, interval)\n",
    "    \n",
    "#     try:\n",
    "    df.to_csv(filename, index=False)\n",
    "#     except Exception as e:\n",
    "#         print(e)\n",
    "        "
   ]
  },
  {
   "cell_type": "markdown",
   "metadata": {},
   "source": [
    "## Download a single file (pair + granularity)"
   ]
  },
  {
   "cell_type": "code",
   "execution_count": 5,
   "metadata": {},
   "outputs": [],
   "source": [
    "PAIR = \"BTCUSDT\"\n",
    "INTERVAL = \"1d\"\n",
    "START_DATE = int(datetime(year=2020, month=1, day=1, hour=0, minute=0, second=0, tzinfo=timezone.utc).timestamp())\n",
    "END_DATE = int(datetime(year=2021, month=5, day=1, hour=0, minute=0, second=0, tzinfo=timezone.utc).timestamp())\n",
    "\n",
    "\n",
    "\n",
    "get_data(PAIR, INTERVAL, START_DATE, END_DATE)"
   ]
  },
  {
   "cell_type": "markdown",
   "metadata": {},
   "source": [
    "## Download multiple files"
   ]
  },
  {
   "cell_type": "code",
   "execution_count": null,
   "metadata": {},
   "outputs": [
    {
     "name": "stdout",
     "output_type": "stream",
     "text": [
      "BTCUSDT 1h\n"
     ]
    }
   ],
   "source": [
    "pairs = [\n",
    "    \"BTCUSDT\",\n",
    "    \"ETHUSDT\",\n",
    "    \"BNBUSDT\",\n",
    "    \"XRPUSDT\",\n",
    "    \"DOGEUSDT\",\n",
    "]\n",
    "\n",
    "intervals = [\n",
    "    \"1h\", \"1d\"\n",
    "#     '15m', '30m', \"1h\",\n",
    "]\n",
    "\n",
    "START_DATE = int(datetime(year=2020, month=1, day=1, hour=0, minute=0, second=0, tzinfo=timezone.utc).timestamp())\n",
    "END_DATE = int(datetime(year=2021, month=10, day=1, hour=0, minute=0, second=0, tzinfo=timezone.utc).timestamp())\n",
    "\n",
    "\n",
    "for pair in pairs:\n",
    "    for interval in intervals:\n",
    "        print(pair, interval)\n",
    "        \n",
    "        done = False\n",
    "        while not done:\n",
    "            try:\n",
    "                get_data(pair, interval, START_DATE, END_DATE)\n",
    "                done = True\n",
    "            except Exception as e:\n",
    "                print(e)\n",
    "                print(\"Fail, trying again\")\n",
    "            time.sleep(60)    \n",
    "        time.sleep(2)\n",
    "            \n",
    "print(\"Done\")"
   ]
  },
  {
   "cell_type": "markdown",
   "metadata": {},
   "source": [
    "## Validate files"
   ]
  },
  {
   "cell_type": "code",
   "execution_count": 21,
   "metadata": {},
   "outputs": [
    {
     "data": {
      "text/plain": [
       "{86400000}"
      ]
     },
     "execution_count": 21,
     "metadata": {},
     "output_type": "execute_result"
    }
   ],
   "source": [
    "import glob\n",
    "import os\n",
    "\n",
    "import numpy as np\n",
    "import pandas as pd\n",
    "\n",
    "PATH = \"data\"\n",
    "\n",
    "paths = glob.glob(os.path.join(\".\", PATH, \"*.csv\"))\n",
    "\n",
    "# paths = [path for path in paths if \"1m\" in path]\n",
    "\n",
    "\n",
    "for name in paths:\n",
    "\n",
    "    \n",
    "    data = pd.read_csv(name, header=0)\n",
    "\n",
    "    # implement data validity check"
   ]
  },
  {
   "cell_type": "code",
   "execution_count": null,
   "metadata": {},
   "outputs": [],
   "source": []
  }
 ],
 "metadata": {
  "kernelspec": {
   "display_name": "Python 3",
   "language": "python",
   "name": "python3"
  },
  "language_info": {
   "codemirror_mode": {
    "name": "ipython",
    "version": 3
   },
   "file_extension": ".py",
   "mimetype": "text/x-python",
   "name": "python",
   "nbconvert_exporter": "python",
   "pygments_lexer": "ipython3",
   "version": "3.6.7"
  }
 },
 "nbformat": 4,
 "nbformat_minor": 5
}
